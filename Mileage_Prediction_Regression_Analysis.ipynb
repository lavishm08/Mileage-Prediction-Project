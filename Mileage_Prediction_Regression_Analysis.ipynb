{
  "metadata": {
    "kernelspec": {
      "language": "python",
      "display_name": "Python 3",
      "name": "python3"
    },
    "language_info": {
      "pygments_lexer": "ipython3",
      "nbconvert_exporter": "python",
      "version": "3.6.4",
      "file_extension": ".py",
      "codemirror_mode": {
        "name": "ipython",
        "version": 3
      },
      "name": "python",
      "mimetype": "text/x-python"
    },
    "colab": {
      "name": "Mileage Prediction - Regression Analysis",
      "provenance": [],
      "include_colab_link": true
    }
  },
  "nbformat_minor": 0,
  "nbformat": 4,
  "cells": [
    {
      "cell_type": "markdown",
      "metadata": {
        "id": "view-in-github",
        "colab_type": "text"
      },
      "source": [
        "<a href=\"https://colab.research.google.com/github/lavishm08/Mileage-Prediction-Project/blob/main/Mileage_Prediction_Regression_Analysis.ipynb\" target=\"_parent\"><img src=\"https://colab.research.google.com/assets/colab-badge.svg\" alt=\"Open In Colab\"/></a>"
      ]
    },
    {
      "cell_type": "markdown",
      "source": [
        "# **Mileage Prediction - Regression Analysis**"
      ],
      "metadata": {
        "id": "zjfg4TSFg49X"
      }
    },
    {
      "cell_type": "markdown",
      "source": [
        "It seeks to develop a robust and interpretable regression model that accurately estimates vehicle mileage based on relevant attributes."
      ],
      "metadata": {
        "id": "Alp7MxFbg9fP"
      }
    },
    {
      "cell_type": "markdown",
      "source": [
        "This dataset was taken from the StatLib library which is maintained at Carnegie Mellon University.The dataset was used in the 1983 American Statistical Association Exposition."
      ],
      "metadata": {
        "id": "rudMcy7phY4b"
      }
    },
    {
      "cell_type": "markdown",
      "source": [
        "# **Import Library**"
      ],
      "metadata": {
        "id": "qwvaydRgi2_C"
      }
    },
    {
      "cell_type": "code",
      "source": [
        "import pandas as pd"
      ],
      "metadata": {
        "id": "j-q4GaBLjBX7",
        "execution": {
          "iopub.status.busy": "2023-08-05T12:49:22.377613Z",
          "iopub.execute_input": "2023-08-05T12:49:22.378488Z",
          "iopub.status.idle": "2023-08-05T12:49:22.41384Z",
          "shell.execute_reply.started": "2023-08-05T12:49:22.37844Z",
          "shell.execute_reply": "2023-08-05T12:49:22.412713Z"
        },
        "trusted": true
      },
      "execution_count": null,
      "outputs": []
    },
    {
      "cell_type": "code",
      "source": [
        "import numpy as np"
      ],
      "metadata": {
        "id": "RX1c24tmjC8-",
        "execution": {
          "iopub.status.busy": "2023-08-05T12:49:22.415775Z",
          "iopub.execute_input": "2023-08-05T12:49:22.416449Z",
          "iopub.status.idle": "2023-08-05T12:49:22.420676Z",
          "shell.execute_reply.started": "2023-08-05T12:49:22.416412Z",
          "shell.execute_reply": "2023-08-05T12:49:22.419703Z"
        },
        "trusted": true
      },
      "execution_count": null,
      "outputs": []
    },
    {
      "cell_type": "code",
      "source": [
        "import matplotlib.pyplot as plt"
      ],
      "metadata": {
        "id": "P5tzqSRLjDAX",
        "execution": {
          "iopub.status.busy": "2023-08-05T12:49:22.422519Z",
          "iopub.execute_input": "2023-08-05T12:49:22.423242Z",
          "iopub.status.idle": "2023-08-05T12:49:22.434405Z",
          "shell.execute_reply.started": "2023-08-05T12:49:22.423179Z",
          "shell.execute_reply": "2023-08-05T12:49:22.433049Z"
        },
        "trusted": true
      },
      "execution_count": null,
      "outputs": []
    },
    {
      "cell_type": "code",
      "source": [
        "import seaborn as sns"
      ],
      "metadata": {
        "id": "mJS-LFbzjKO7",
        "execution": {
          "iopub.status.busy": "2023-08-05T12:52:50.043229Z",
          "iopub.execute_input": "2023-08-05T12:52:50.043679Z",
          "iopub.status.idle": "2023-08-05T12:52:50.049553Z",
          "shell.execute_reply.started": "2023-08-05T12:52:50.043617Z",
          "shell.execute_reply": "2023-08-05T12:52:50.048146Z"
        },
        "trusted": true
      },
      "execution_count": null,
      "outputs": []
    },
    {
      "cell_type": "markdown",
      "source": [
        "# **Import Data**"
      ],
      "metadata": {
        "id": "lbqVGk_hjN-7"
      }
    },
    {
      "cell_type": "code",
      "source": [
        "df = pd.read_csv('https://raw.githubusercontent.com/YBI-Foundation/Dataset/main/MPG.csv')"
      ],
      "metadata": {
        "id": "6C6mmBUvjYag",
        "execution": {
          "iopub.status.busy": "2023-08-05T12:49:24.045759Z",
          "iopub.execute_input": "2023-08-05T12:49:24.046712Z",
          "iopub.status.idle": "2023-08-05T12:49:24.450049Z",
          "shell.execute_reply.started": "2023-08-05T12:49:24.046635Z",
          "shell.execute_reply": "2023-08-05T12:49:24.448578Z"
        },
        "trusted": true
      },
      "execution_count": null,
      "outputs": []
    },
    {
      "cell_type": "code",
      "source": [
        "df.head()"
      ],
      "metadata": {
        "id": "knqCe39ijciR",
        "execution": {
          "iopub.status.busy": "2023-08-05T12:49:24.453403Z",
          "iopub.execute_input": "2023-08-05T12:49:24.4539Z",
          "iopub.status.idle": "2023-08-05T12:49:24.492086Z",
          "shell.execute_reply.started": "2023-08-05T12:49:24.453856Z",
          "shell.execute_reply": "2023-08-05T12:49:24.491176Z"
        },
        "trusted": true
      },
      "execution_count": null,
      "outputs": []
    },
    {
      "cell_type": "code",
      "source": [
        "df.nunique()"
      ],
      "metadata": {
        "id": "_6L3Do8njcqg",
        "execution": {
          "iopub.status.busy": "2023-08-05T12:49:24.493801Z",
          "iopub.execute_input": "2023-08-05T12:49:24.494248Z",
          "iopub.status.idle": "2023-08-05T12:49:24.512954Z",
          "shell.execute_reply.started": "2023-08-05T12:49:24.494207Z",
          "shell.execute_reply": "2023-08-05T12:49:24.511742Z"
        },
        "trusted": true
      },
      "execution_count": null,
      "outputs": []
    },
    {
      "cell_type": "markdown",
      "source": [
        "# **Data Preprocessing**"
      ],
      "metadata": {
        "id": "xVUzvCcwjo-J"
      }
    },
    {
      "cell_type": "code",
      "source": [
        "df.info()"
      ],
      "metadata": {
        "id": "RnqCcRvojx0b",
        "execution": {
          "iopub.status.busy": "2023-08-05T12:49:24.51602Z",
          "iopub.execute_input": "2023-08-05T12:49:24.516989Z",
          "iopub.status.idle": "2023-08-05T12:49:24.5442Z",
          "shell.execute_reply.started": "2023-08-05T12:49:24.516942Z",
          "shell.execute_reply": "2023-08-05T12:49:24.542828Z"
        },
        "trusted": true
      },
      "execution_count": null,
      "outputs": []
    },
    {
      "cell_type": "code",
      "source": [
        "df.describe()"
      ],
      "metadata": {
        "id": "bZ0YniaVj7VW",
        "execution": {
          "iopub.status.busy": "2023-08-05T12:49:24.545919Z",
          "iopub.execute_input": "2023-08-05T12:49:24.547315Z",
          "iopub.status.idle": "2023-08-05T12:49:24.586514Z",
          "shell.execute_reply.started": "2023-08-05T12:49:24.547267Z",
          "shell.execute_reply": "2023-08-05T12:49:24.585319Z"
        },
        "trusted": true
      },
      "execution_count": null,
      "outputs": []
    },
    {
      "cell_type": "code",
      "source": [
        "df.corr()"
      ],
      "metadata": {
        "id": "y3glVlF2kG-a",
        "execution": {
          "iopub.status.busy": "2023-08-05T12:53:01.9604Z",
          "iopub.execute_input": "2023-08-05T12:53:01.960943Z",
          "iopub.status.idle": "2023-08-05T12:53:01.980711Z",
          "shell.execute_reply.started": "2023-08-05T12:53:01.960899Z",
          "shell.execute_reply": "2023-08-05T12:53:01.979567Z"
        },
        "trusted": true
      },
      "execution_count": null,
      "outputs": []
    },
    {
      "cell_type": "markdown",
      "source": [
        "# **Remove Missing Values**"
      ],
      "metadata": {
        "id": "Q1bFX_BIkNUs"
      }
    },
    {
      "cell_type": "code",
      "source": [
        "df = df.dropna()\n"
      ],
      "metadata": {
        "id": "WMEmCBZtkTZw",
        "execution": {
          "iopub.status.busy": "2023-08-05T12:49:24.617541Z",
          "iopub.execute_input": "2023-08-05T12:49:24.618613Z",
          "iopub.status.idle": "2023-08-05T12:49:24.627729Z",
          "shell.execute_reply.started": "2023-08-05T12:49:24.618544Z",
          "shell.execute_reply": "2023-08-05T12:49:24.625882Z"
        },
        "trusted": true
      },
      "execution_count": null,
      "outputs": []
    },
    {
      "cell_type": "code",
      "source": [
        "df.info()"
      ],
      "metadata": {
        "id": "i54TdTeNknvU",
        "execution": {
          "iopub.status.busy": "2023-08-05T12:49:24.629603Z",
          "iopub.execute_input": "2023-08-05T12:49:24.630496Z",
          "iopub.status.idle": "2023-08-05T12:49:24.649657Z",
          "shell.execute_reply.started": "2023-08-05T12:49:24.63045Z",
          "shell.execute_reply": "2023-08-05T12:49:24.648186Z"
        },
        "trusted": true
      },
      "execution_count": null,
      "outputs": []
    },
    {
      "cell_type": "markdown",
      "source": [
        "# **Data Visualization**"
      ],
      "metadata": {
        "id": "MeA9-bNIkvMm"
      }
    },
    {
      "cell_type": "code",
      "source": [
        "sns.pairplot(df, x_vars = ['displacement', 'horsepower', 'weight', 'acceleration', 'mpg'], y_vars = 'mpg')"
      ],
      "metadata": {
        "id": "YvUZbObCkxXF",
        "execution": {
          "iopub.status.busy": "2023-08-05T12:49:24.651467Z",
          "iopub.execute_input": "2023-08-05T12:49:24.651934Z",
          "iopub.status.idle": "2023-08-05T12:49:26.242463Z",
          "shell.execute_reply.started": "2023-08-05T12:49:24.651891Z",
          "shell.execute_reply": "2023-08-05T12:49:26.241576Z"
        },
        "trusted": true
      },
      "execution_count": null,
      "outputs": []
    },
    {
      "cell_type": "code",
      "source": [
        "sns.regplot(x = 'displacement', y = 'mpg', data = df)"
      ],
      "metadata": {
        "id": "is8gxTuJk1Oa",
        "execution": {
          "iopub.status.busy": "2023-08-05T12:49:26.243637Z",
          "iopub.execute_input": "2023-08-05T12:49:26.244548Z",
          "iopub.status.idle": "2023-08-05T12:49:26.77084Z",
          "shell.execute_reply.started": "2023-08-05T12:49:26.244496Z",
          "shell.execute_reply": "2023-08-05T12:49:26.769712Z"
        },
        "trusted": true
      },
      "execution_count": null,
      "outputs": []
    },
    {
      "cell_type": "markdown",
      "source": [
        "# **Define Target Variable y and Feature X**"
      ],
      "metadata": {
        "id": "EPjxcr5NlAFi"
      }
    },
    {
      "cell_type": "code",
      "source": [
        "df.columns"
      ],
      "metadata": {
        "id": "Ntt5J0U6lDJh",
        "execution": {
          "iopub.status.busy": "2023-08-05T12:49:26.772503Z",
          "iopub.execute_input": "2023-08-05T12:49:26.773662Z",
          "iopub.status.idle": "2023-08-05T12:49:26.781882Z",
          "shell.execute_reply.started": "2023-08-05T12:49:26.773596Z",
          "shell.execute_reply": "2023-08-05T12:49:26.780687Z"
        },
        "trusted": true
      },
      "execution_count": null,
      "outputs": []
    },
    {
      "cell_type": "code",
      "source": [
        "y = df['mpg']"
      ],
      "metadata": {
        "id": "m9BBkN8zlKNv",
        "execution": {
          "iopub.status.busy": "2023-08-05T12:49:26.783489Z",
          "iopub.execute_input": "2023-08-05T12:49:26.784569Z",
          "iopub.status.idle": "2023-08-05T12:49:26.799954Z",
          "shell.execute_reply.started": "2023-08-05T12:49:26.784524Z",
          "shell.execute_reply": "2023-08-05T12:49:26.798154Z"
        },
        "trusted": true
      },
      "execution_count": null,
      "outputs": []
    },
    {
      "cell_type": "code",
      "source": [
        "y.shape"
      ],
      "metadata": {
        "id": "8jHUttv1lLnI",
        "execution": {
          "iopub.status.busy": "2023-08-05T12:49:26.801758Z",
          "iopub.execute_input": "2023-08-05T12:49:26.802469Z",
          "iopub.status.idle": "2023-08-05T12:49:26.822461Z",
          "shell.execute_reply.started": "2023-08-05T12:49:26.80242Z",
          "shell.execute_reply": "2023-08-05T12:49:26.821151Z"
        },
        "trusted": true
      },
      "execution_count": null,
      "outputs": []
    },
    {
      "cell_type": "code",
      "source": [
        "x = df[['displacement', 'horsepower', 'weight', 'acceleration']]"
      ],
      "metadata": {
        "id": "6dDsdQdmlLqp",
        "execution": {
          "iopub.status.busy": "2023-08-05T12:49:26.824092Z",
          "iopub.execute_input": "2023-08-05T12:49:26.824463Z",
          "iopub.status.idle": "2023-08-05T12:49:26.834517Z",
          "shell.execute_reply.started": "2023-08-05T12:49:26.824429Z",
          "shell.execute_reply": "2023-08-05T12:49:26.833309Z"
        },
        "trusted": true
      },
      "execution_count": null,
      "outputs": []
    },
    {
      "cell_type": "code",
      "source": [
        "x.shape"
      ],
      "metadata": {
        "id": "LBv8uApAlTpu",
        "execution": {
          "iopub.status.busy": "2023-08-05T12:49:26.836412Z",
          "iopub.execute_input": "2023-08-05T12:49:26.837363Z",
          "iopub.status.idle": "2023-08-05T12:49:26.855762Z",
          "shell.execute_reply.started": "2023-08-05T12:49:26.837325Z",
          "shell.execute_reply": "2023-08-05T12:49:26.854619Z"
        },
        "trusted": true
      },
      "execution_count": null,
      "outputs": []
    },
    {
      "cell_type": "markdown",
      "source": [
        "# **Scaling Data**"
      ],
      "metadata": {
        "id": "6qg4i3inlai8"
      }
    },
    {
      "cell_type": "code",
      "source": [
        "from sklearn.preprocessing import StandardScaler"
      ],
      "metadata": {
        "id": "S07lBA_slc26",
        "execution": {
          "iopub.status.busy": "2023-08-05T12:49:26.857246Z",
          "iopub.execute_input": "2023-08-05T12:49:26.857876Z",
          "iopub.status.idle": "2023-08-05T12:49:27.055271Z",
          "shell.execute_reply.started": "2023-08-05T12:49:26.857841Z",
          "shell.execute_reply": "2023-08-05T12:49:27.053422Z"
        },
        "trusted": true
      },
      "execution_count": null,
      "outputs": []
    },
    {
      "cell_type": "code",
      "source": [
        "ss = StandardScaler()"
      ],
      "metadata": {
        "id": "nL7wG6Lzlh5h",
        "execution": {
          "iopub.status.busy": "2023-08-05T12:49:27.057286Z",
          "iopub.execute_input": "2023-08-05T12:49:27.05792Z",
          "iopub.status.idle": "2023-08-05T12:49:27.065182Z",
          "shell.execute_reply.started": "2023-08-05T12:49:27.057874Z",
          "shell.execute_reply": "2023-08-05T12:49:27.063517Z"
        },
        "trusted": true
      },
      "execution_count": null,
      "outputs": []
    },
    {
      "cell_type": "code",
      "source": [
        "x = ss.fit_transform(x)"
      ],
      "metadata": {
        "id": "sVKeed6Xlh-o",
        "execution": {
          "iopub.status.busy": "2023-08-05T12:49:27.067274Z",
          "iopub.execute_input": "2023-08-05T12:49:27.067894Z",
          "iopub.status.idle": "2023-08-05T12:49:27.08653Z",
          "shell.execute_reply.started": "2023-08-05T12:49:27.067849Z",
          "shell.execute_reply": "2023-08-05T12:49:27.084883Z"
        },
        "trusted": true
      },
      "execution_count": null,
      "outputs": []
    },
    {
      "cell_type": "code",
      "source": [
        "pd.DataFrame(x).describe()"
      ],
      "metadata": {
        "id": "8eEAZKLfliH6",
        "execution": {
          "iopub.status.busy": "2023-08-05T12:49:27.088762Z",
          "iopub.execute_input": "2023-08-05T12:49:27.090572Z",
          "iopub.status.idle": "2023-08-05T12:49:27.173422Z",
          "shell.execute_reply.started": "2023-08-05T12:49:27.090518Z",
          "shell.execute_reply": "2023-08-05T12:49:27.172516Z"
        },
        "trusted": true
      },
      "execution_count": null,
      "outputs": []
    },
    {
      "cell_type": "markdown",
      "source": [
        "# **Train Test Split Data**"
      ],
      "metadata": {
        "id": "mdpyT5SIlu0m"
      }
    },
    {
      "cell_type": "code",
      "source": [
        "from sklearn.model_selection import train_test_split"
      ],
      "metadata": {
        "id": "HpHH7Z8GlwpN",
        "execution": {
          "iopub.status.busy": "2023-08-05T12:49:27.177728Z",
          "iopub.execute_input": "2023-08-05T12:49:27.178133Z",
          "iopub.status.idle": "2023-08-05T12:49:27.29908Z",
          "shell.execute_reply.started": "2023-08-05T12:49:27.178099Z",
          "shell.execute_reply": "2023-08-05T12:49:27.298082Z"
        },
        "trusted": true
      },
      "execution_count": null,
      "outputs": []
    },
    {
      "cell_type": "code",
      "source": [
        "xtrain, xtest, ytrain, ytest = train_test_split(x, y, train_size = 0.7)"
      ],
      "metadata": {
        "id": "L3T-NUydl0-c",
        "execution": {
          "iopub.status.busy": "2023-08-05T12:49:27.300752Z",
          "iopub.execute_input": "2023-08-05T12:49:27.301508Z",
          "iopub.status.idle": "2023-08-05T12:49:27.308414Z",
          "shell.execute_reply.started": "2023-08-05T12:49:27.301462Z",
          "shell.execute_reply": "2023-08-05T12:49:27.307321Z"
        },
        "trusted": true
      },
      "execution_count": null,
      "outputs": []
    },
    {
      "cell_type": "code",
      "source": [
        "xtrain.shape, xtest.shape, ytrain.shape, ytest.shape"
      ],
      "metadata": {
        "id": "L3yTyGs4l1CJ",
        "execution": {
          "iopub.status.busy": "2023-08-05T12:49:27.31031Z",
          "iopub.execute_input": "2023-08-05T12:49:27.311263Z",
          "iopub.status.idle": "2023-08-05T12:49:27.323695Z",
          "shell.execute_reply.started": "2023-08-05T12:49:27.311208Z",
          "shell.execute_reply": "2023-08-05T12:49:27.322105Z"
        },
        "trusted": true
      },
      "execution_count": null,
      "outputs": []
    },
    {
      "cell_type": "markdown",
      "source": [
        "# **Modeling**"
      ],
      "metadata": {
        "id": "4n-09FEcl79b"
      }
    },
    {
      "cell_type": "markdown",
      "source": [
        "### **Linear Regression Model**"
      ],
      "metadata": {
        "id": "qPiTkfeQmFr0"
      }
    },
    {
      "cell_type": "code",
      "source": [
        "from sklearn.linear_model import LinearRegression"
      ],
      "metadata": {
        "id": "IUPnYfQLmCYD",
        "execution": {
          "iopub.status.busy": "2023-08-05T12:49:27.325689Z",
          "iopub.execute_input": "2023-08-05T12:49:27.326202Z",
          "iopub.status.idle": "2023-08-05T12:49:27.438274Z",
          "shell.execute_reply.started": "2023-08-05T12:49:27.326157Z",
          "shell.execute_reply": "2023-08-05T12:49:27.437016Z"
        },
        "trusted": true
      },
      "execution_count": null,
      "outputs": []
    },
    {
      "cell_type": "code",
      "source": [
        "lr = LinearRegression()"
      ],
      "metadata": {
        "id": "atTJ2GNImQDC",
        "execution": {
          "iopub.status.busy": "2023-08-05T12:49:27.447503Z",
          "iopub.execute_input": "2023-08-05T12:49:27.450083Z",
          "iopub.status.idle": "2023-08-05T12:49:27.454476Z",
          "shell.execute_reply.started": "2023-08-05T12:49:27.45004Z",
          "shell.execute_reply": "2023-08-05T12:49:27.453508Z"
        },
        "trusted": true
      },
      "execution_count": null,
      "outputs": []
    },
    {
      "cell_type": "markdown",
      "source": [
        "### **Train or Fit model**"
      ],
      "metadata": {
        "id": "zFvbTlO_mpvE"
      }
    },
    {
      "cell_type": "code",
      "source": [
        "lr.fit(xtrain, ytrain)"
      ],
      "metadata": {
        "id": "8zVY-obpmQWs",
        "execution": {
          "iopub.status.busy": "2023-08-05T12:49:27.455833Z",
          "iopub.execute_input": "2023-08-05T12:49:27.456901Z",
          "iopub.status.idle": "2023-08-05T12:49:27.499015Z",
          "shell.execute_reply.started": "2023-08-05T12:49:27.456866Z",
          "shell.execute_reply": "2023-08-05T12:49:27.498101Z"
        },
        "trusted": true
      },
      "execution_count": null,
      "outputs": []
    },
    {
      "cell_type": "code",
      "source": [
        "lr.intercept_"
      ],
      "metadata": {
        "id": "vX3tl-5smQhO",
        "execution": {
          "iopub.status.busy": "2023-08-05T12:49:27.500254Z",
          "iopub.execute_input": "2023-08-05T12:49:27.50094Z",
          "iopub.status.idle": "2023-08-05T12:49:27.507371Z",
          "shell.execute_reply.started": "2023-08-05T12:49:27.500907Z",
          "shell.execute_reply": "2023-08-05T12:49:27.506406Z"
        },
        "trusted": true
      },
      "execution_count": null,
      "outputs": []
    },
    {
      "cell_type": "code",
      "source": [
        "lr.coef_"
      ],
      "metadata": {
        "id": "466I9jM9m6td",
        "execution": {
          "iopub.status.busy": "2023-08-05T12:49:27.508909Z",
          "iopub.execute_input": "2023-08-05T12:49:27.509544Z",
          "iopub.status.idle": "2023-08-05T12:49:27.528738Z",
          "shell.execute_reply.started": "2023-08-05T12:49:27.509509Z",
          "shell.execute_reply": "2023-08-05T12:49:27.527531Z"
        },
        "trusted": true
      },
      "execution_count": null,
      "outputs": []
    },
    {
      "cell_type": "markdown",
      "source": [
        "Mileage = 23.6 - 0.13, Displacemet = -1.42, Horsepower = -5.23, Weight = 0.22 Acceleration + error"
      ],
      "metadata": {
        "id": "YjXQbin4nEnj"
      }
    },
    {
      "cell_type": "markdown",
      "source": [
        "# **Prediction**"
      ],
      "metadata": {
        "id": "ztsodc5nnLML"
      }
    },
    {
      "cell_type": "markdown",
      "source": [
        "### **Predict Test Data**"
      ],
      "metadata": {
        "id": "tntHaWnGnLvP"
      }
    },
    {
      "cell_type": "code",
      "source": [
        "y_pred = lr.predict(xtest)"
      ],
      "metadata": {
        "id": "1MSSuzOMnGnd",
        "execution": {
          "iopub.status.busy": "2023-08-05T12:49:27.530219Z",
          "iopub.execute_input": "2023-08-05T12:49:27.531665Z",
          "iopub.status.idle": "2023-08-05T12:49:27.54032Z",
          "shell.execute_reply.started": "2023-08-05T12:49:27.531608Z",
          "shell.execute_reply": "2023-08-05T12:49:27.539071Z"
        },
        "trusted": true
      },
      "execution_count": null,
      "outputs": []
    },
    {
      "cell_type": "code",
      "source": [
        "y_pred"
      ],
      "metadata": {
        "id": "3YLkcrYRnXXo",
        "execution": {
          "iopub.status.busy": "2023-08-05T12:49:27.541952Z",
          "iopub.execute_input": "2023-08-05T12:49:27.543051Z",
          "iopub.status.idle": "2023-08-05T12:49:27.558458Z",
          "shell.execute_reply.started": "2023-08-05T12:49:27.543015Z",
          "shell.execute_reply": "2023-08-05T12:49:27.557019Z"
        },
        "trusted": true
      },
      "execution_count": null,
      "outputs": []
    },
    {
      "cell_type": "markdown",
      "source": [
        "# **Model Accuracy**"
      ],
      "metadata": {
        "id": "cJFIhf2Xni0g"
      }
    },
    {
      "cell_type": "code",
      "source": [
        "from sklearn.metrics import mean_absolute_error, r2_score, mean_absolute_percentage_error"
      ],
      "metadata": {
        "id": "pBewsG9AncIW",
        "execution": {
          "iopub.status.busy": "2023-08-05T12:49:27.560126Z",
          "iopub.execute_input": "2023-08-05T12:49:27.561016Z",
          "iopub.status.idle": "2023-08-05T12:49:27.569164Z",
          "shell.execute_reply.started": "2023-08-05T12:49:27.560976Z",
          "shell.execute_reply": "2023-08-05T12:49:27.568063Z"
        },
        "trusted": true
      },
      "execution_count": null,
      "outputs": []
    },
    {
      "cell_type": "code",
      "source": [
        "mean_absolute_error(ytest, y_pred)"
      ],
      "metadata": {
        "id": "nSIMzsZZnqrm",
        "execution": {
          "iopub.status.busy": "2023-08-05T12:49:27.570785Z",
          "iopub.execute_input": "2023-08-05T12:49:27.571194Z",
          "iopub.status.idle": "2023-08-05T12:49:27.586838Z",
          "shell.execute_reply.started": "2023-08-05T12:49:27.57116Z",
          "shell.execute_reply": "2023-08-05T12:49:27.585457Z"
        },
        "trusted": true
      },
      "execution_count": null,
      "outputs": []
    },
    {
      "cell_type": "code",
      "source": [
        "mean_absolute_percentage_error(ytest, y_pred)"
      ],
      "metadata": {
        "id": "XuQWfTp5nqx7",
        "execution": {
          "iopub.status.busy": "2023-08-05T12:49:27.588618Z",
          "iopub.execute_input": "2023-08-05T12:49:27.589013Z",
          "iopub.status.idle": "2023-08-05T12:49:27.599347Z",
          "shell.execute_reply.started": "2023-08-05T12:49:27.58898Z",
          "shell.execute_reply": "2023-08-05T12:49:27.598093Z"
        },
        "trusted": true
      },
      "execution_count": null,
      "outputs": []
    },
    {
      "cell_type": "code",
      "source": [
        "r2_score(ytest, y_pred)"
      ],
      "metadata": {
        "id": "aM1kycjpnyDS",
        "execution": {
          "iopub.status.busy": "2023-08-05T12:49:27.601288Z",
          "iopub.execute_input": "2023-08-05T12:49:27.602507Z",
          "iopub.status.idle": "2023-08-05T12:49:27.614506Z",
          "shell.execute_reply.started": "2023-08-05T12:49:27.602458Z",
          "shell.execute_reply": "2023-08-05T12:49:27.613031Z"
        },
        "trusted": true
      },
      "execution_count": null,
      "outputs": []
    },
    {
      "cell_type": "markdown",
      "source": [
        "# **Polynomial Regression**"
      ],
      "metadata": {
        "id": "sboTSPINn3-q"
      }
    },
    {
      "cell_type": "code",
      "source": [
        "from sklearn.preprocessing import PolynomialFeatures"
      ],
      "metadata": {
        "id": "xdtwrNWRn6dW",
        "execution": {
          "iopub.status.busy": "2023-08-05T12:49:27.616488Z",
          "iopub.execute_input": "2023-08-05T12:49:27.617353Z",
          "iopub.status.idle": "2023-08-05T12:49:27.622754Z",
          "shell.execute_reply.started": "2023-08-05T12:49:27.617307Z",
          "shell.execute_reply": "2023-08-05T12:49:27.62171Z"
        },
        "trusted": true
      },
      "execution_count": null,
      "outputs": []
    },
    {
      "cell_type": "code",
      "source": [
        "poly = PolynomialFeatures(degree = 2, interaction_only = True, include_bias = False)"
      ],
      "metadata": {
        "id": "fMtd053Jn-Vi",
        "execution": {
          "iopub.status.busy": "2023-08-05T12:49:27.624592Z",
          "iopub.execute_input": "2023-08-05T12:49:27.625422Z",
          "iopub.status.idle": "2023-08-05T12:49:27.635764Z",
          "shell.execute_reply.started": "2023-08-05T12:49:27.62538Z",
          "shell.execute_reply": "2023-08-05T12:49:27.63474Z"
        },
        "trusted": true
      },
      "execution_count": null,
      "outputs": []
    },
    {
      "cell_type": "code",
      "source": [
        "x_train2 = poly.fit_transform(xtrain)"
      ],
      "metadata": {
        "id": "71B_NOwsn-X1",
        "execution": {
          "iopub.status.busy": "2023-08-05T12:49:27.637637Z",
          "iopub.execute_input": "2023-08-05T12:49:27.638887Z",
          "iopub.status.idle": "2023-08-05T12:49:27.647284Z",
          "shell.execute_reply.started": "2023-08-05T12:49:27.638839Z",
          "shell.execute_reply": "2023-08-05T12:49:27.646386Z"
        },
        "trusted": true
      },
      "execution_count": null,
      "outputs": []
    },
    {
      "cell_type": "code",
      "source": [
        "x_test2 = poly.fit_transform(xtest)"
      ],
      "metadata": {
        "id": "9OQWg3dvn-bL",
        "execution": {
          "iopub.status.busy": "2023-08-05T12:49:27.648538Z",
          "iopub.execute_input": "2023-08-05T12:49:27.649744Z",
          "iopub.status.idle": "2023-08-05T12:49:27.660964Z",
          "shell.execute_reply.started": "2023-08-05T12:49:27.649701Z",
          "shell.execute_reply": "2023-08-05T12:49:27.660049Z"
        },
        "trusted": true
      },
      "execution_count": null,
      "outputs": []
    },
    {
      "cell_type": "code",
      "source": [
        "lr.fit(x_train2, ytrain)"
      ],
      "metadata": {
        "id": "cx1VveSvoHQa",
        "execution": {
          "iopub.status.busy": "2023-08-05T12:49:27.662177Z",
          "iopub.execute_input": "2023-08-05T12:49:27.665124Z",
          "iopub.status.idle": "2023-08-05T12:49:27.680284Z",
          "shell.execute_reply.started": "2023-08-05T12:49:27.66507Z",
          "shell.execute_reply": "2023-08-05T12:49:27.679069Z"
        },
        "trusted": true
      },
      "execution_count": null,
      "outputs": []
    },
    {
      "cell_type": "code",
      "source": [
        "lr.intercept_"
      ],
      "metadata": {
        "id": "2Opf8tnSoHUC",
        "execution": {
          "iopub.status.busy": "2023-08-05T12:49:27.682129Z",
          "iopub.execute_input": "2023-08-05T12:49:27.683054Z",
          "iopub.status.idle": "2023-08-05T12:49:27.693008Z",
          "shell.execute_reply.started": "2023-08-05T12:49:27.683009Z",
          "shell.execute_reply": "2023-08-05T12:49:27.691737Z"
        },
        "trusted": true
      },
      "execution_count": null,
      "outputs": []
    },
    {
      "cell_type": "code",
      "source": [
        "lr.coef_"
      ],
      "metadata": {
        "id": "3GCYylFcoNQy",
        "execution": {
          "iopub.status.busy": "2023-08-05T12:49:27.694535Z",
          "iopub.execute_input": "2023-08-05T12:49:27.695501Z",
          "iopub.status.idle": "2023-08-05T12:49:27.710887Z",
          "shell.execute_reply.started": "2023-08-05T12:49:27.695454Z",
          "shell.execute_reply": "2023-08-05T12:49:27.708758Z"
        },
        "trusted": true
      },
      "execution_count": null,
      "outputs": []
    },
    {
      "cell_type": "code",
      "source": [
        "y_pred_poly = lr.predict(x_test2)"
      ],
      "metadata": {
        "id": "1cGEgtHVoNUY",
        "execution": {
          "iopub.status.busy": "2023-08-05T12:49:27.712362Z",
          "iopub.execute_input": "2023-08-05T12:49:27.712954Z",
          "iopub.status.idle": "2023-08-05T12:49:27.722225Z",
          "shell.execute_reply.started": "2023-08-05T12:49:27.712906Z",
          "shell.execute_reply": "2023-08-05T12:49:27.72122Z"
        },
        "trusted": true
      },
      "execution_count": null,
      "outputs": []
    },
    {
      "cell_type": "markdown",
      "source": [
        "# **Model Accuracy**"
      ],
      "metadata": {
        "id": "09NVg7nzoby_"
      }
    },
    {
      "cell_type": "code",
      "source": [
        "mean_absolute_error(ytest, y_pred_poly)"
      ],
      "metadata": {
        "id": "1BUk-Tr1oh6a",
        "execution": {
          "iopub.status.busy": "2023-08-05T12:49:27.723552Z",
          "iopub.execute_input": "2023-08-05T12:49:27.724181Z",
          "iopub.status.idle": "2023-08-05T12:49:27.739241Z",
          "shell.execute_reply.started": "2023-08-05T12:49:27.724146Z",
          "shell.execute_reply": "2023-08-05T12:49:27.737851Z"
        },
        "trusted": true
      },
      "execution_count": null,
      "outputs": []
    },
    {
      "cell_type": "code",
      "source": [
        "mean_absolute_percentage_error(ytest, y_pred_poly)"
      ],
      "metadata": {
        "id": "dG0Mc4Lboh-p",
        "execution": {
          "iopub.status.busy": "2023-08-05T12:49:27.741017Z",
          "iopub.execute_input": "2023-08-05T12:49:27.742086Z",
          "iopub.status.idle": "2023-08-05T12:49:27.750722Z",
          "shell.execute_reply.started": "2023-08-05T12:49:27.742046Z",
          "shell.execute_reply": "2023-08-05T12:49:27.749807Z"
        },
        "trusted": true
      },
      "execution_count": null,
      "outputs": []
    },
    {
      "cell_type": "code",
      "source": [
        "r2_score(ytest, y_pred_poly)"
      ],
      "metadata": {
        "id": "5iIm4OSmoiQ4",
        "execution": {
          "iopub.status.busy": "2023-08-05T12:49:27.752226Z",
          "iopub.execute_input": "2023-08-05T12:49:27.753043Z",
          "iopub.status.idle": "2023-08-05T12:49:27.764684Z",
          "shell.execute_reply.started": "2023-08-05T12:49:27.753006Z",
          "shell.execute_reply": "2023-08-05T12:49:27.763494Z"
        },
        "trusted": true
      },
      "execution_count": null,
      "outputs": []
    },
    {
      "cell_type": "markdown",
      "source": [
        "# **Explaination**"
      ],
      "metadata": {
        "id": "O3p8EpPwotgV"
      }
    },
    {
      "cell_type": "markdown",
      "source": [
        "The \"Mileage Prediction - Regression Analysis\" project is about creating a smart tool that can guess how many miles a vehicle can travel using a certain amount of fuel. Imagine you want to know how far different cars can go before they need more gas. This project uses clever calculations and data to make an educated guess. It looks at things like the car's size, weight, and how powerful its engine is. By doing this for lots of cars, we can help people choose cars that use fuel more efficiently. It's like having a mileage fortune teller that helps you pick a car that goes a long way on a single tank of gas!"
      ],
      "metadata": {
        "id": "z3PdEqJEoxTm"
      }
    }
  ]
}